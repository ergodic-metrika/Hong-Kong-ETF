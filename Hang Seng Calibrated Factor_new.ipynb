{
 "cells": [
  {
   "cell_type": "code",
   "execution_count": 1,
   "id": "e7db90df-653c-4020-9a04-9796dde86668",
   "metadata": {},
   "outputs": [],
   "source": [
    "#Load Package\n",
    "import numpy as np\n",
    "import pandas as pd\n",
    "import statsmodels.api as sm\n",
    "\n",
    "# Read excel file\n",
    "file_path = r'D:\\Derivatives Trading\\Hang Seng ETF Data.xlsx'\n",
    "df = pd.read_excel(file_path, index_col='Date', parse_dates=True)\n"
   ]
  },
  {
   "cell_type": "code",
   "execution_count": 2,
   "id": "bc981a04-94c1-49c5-9868-542dd96e126e",
   "metadata": {},
   "outputs": [],
   "source": [
    "# Read excel file\n",
    "file_path = r'D:\\Derivatives Trading\\Hang Seng ETF Data.xlsx'\n",
    "df = pd.read_excel(file_path, index_col='Date', parse_dates=True)"
   ]
  },
  {
   "cell_type": "code",
   "execution_count": 3,
   "id": "b87d8318-f7f0-48ff-a0ae-2874fa8a9546",
   "metadata": {},
   "outputs": [
    {
     "ename": "KeyError",
     "evalue": "'Hang Seng Tech'",
     "output_type": "error",
     "traceback": [
      "\u001b[1;31m---------------------------------------------------------------------------\u001b[0m",
      "\u001b[1;31mKeyError\u001b[0m                                  Traceback (most recent call last)",
      "File \u001b[1;32m~\\anaconda3_2\\Lib\\site-packages\\pandas\\core\\indexes\\base.py:3791\u001b[0m, in \u001b[0;36mIndex.get_loc\u001b[1;34m(self, key)\u001b[0m\n\u001b[0;32m   3790\u001b[0m \u001b[38;5;28;01mtry\u001b[39;00m:\n\u001b[1;32m-> 3791\u001b[0m     \u001b[38;5;28;01mreturn\u001b[39;00m \u001b[38;5;28mself\u001b[39m\u001b[38;5;241m.\u001b[39m_engine\u001b[38;5;241m.\u001b[39mget_loc(casted_key)\n\u001b[0;32m   3792\u001b[0m \u001b[38;5;28;01mexcept\u001b[39;00m \u001b[38;5;167;01mKeyError\u001b[39;00m \u001b[38;5;28;01mas\u001b[39;00m err:\n",
      "File \u001b[1;32mindex.pyx:152\u001b[0m, in \u001b[0;36mpandas._libs.index.IndexEngine.get_loc\u001b[1;34m()\u001b[0m\n",
      "File \u001b[1;32mindex.pyx:181\u001b[0m, in \u001b[0;36mpandas._libs.index.IndexEngine.get_loc\u001b[1;34m()\u001b[0m\n",
      "File \u001b[1;32mpandas\\_libs\\hashtable_class_helper.pxi:7080\u001b[0m, in \u001b[0;36mpandas._libs.hashtable.PyObjectHashTable.get_item\u001b[1;34m()\u001b[0m\n",
      "File \u001b[1;32mpandas\\_libs\\hashtable_class_helper.pxi:7088\u001b[0m, in \u001b[0;36mpandas._libs.hashtable.PyObjectHashTable.get_item\u001b[1;34m()\u001b[0m\n",
      "\u001b[1;31mKeyError\u001b[0m: 'Hang Seng Tech'",
      "\nThe above exception was the direct cause of the following exception:\n",
      "\u001b[1;31mKeyError\u001b[0m                                  Traceback (most recent call last)",
      "Cell \u001b[1;32mIn[3], line 4\u001b[0m\n\u001b[0;32m      2\u001b[0m df[\u001b[38;5;124m'\u001b[39m\u001b[38;5;124m7200 HK Return\u001b[39m\u001b[38;5;124m'\u001b[39m] \u001b[38;5;241m=\u001b[39m df[\u001b[38;5;124m'\u001b[39m\u001b[38;5;124m7200 HK\u001b[39m\u001b[38;5;124m'\u001b[39m]\u001b[38;5;241m.\u001b[39mpct_change()\n\u001b[0;32m      3\u001b[0m df[\u001b[38;5;124m'\u001b[39m\u001b[38;5;124m3110 HK Return\u001b[39m\u001b[38;5;124m'\u001b[39m] \u001b[38;5;241m=\u001b[39m df[\u001b[38;5;124m'\u001b[39m\u001b[38;5;124m3110 HK\u001b[39m\u001b[38;5;124m'\u001b[39m]\u001b[38;5;241m.\u001b[39mpct_change()\n\u001b[1;32m----> 4\u001b[0m df[\u001b[38;5;124m'\u001b[39m\u001b[38;5;124mHang Seng Tech Return\u001b[39m\u001b[38;5;124m'\u001b[39m] \u001b[38;5;241m=\u001b[39m df[\u001b[38;5;124m'\u001b[39m\u001b[38;5;124mHang Seng Tech\u001b[39m\u001b[38;5;124m'\u001b[39m]\u001b[38;5;241m.\u001b[39mpct_change()\n\u001b[0;32m      5\u001b[0m df[\u001b[38;5;124m'\u001b[39m\u001b[38;5;124mHong Kong Exchange Return\u001b[39m\u001b[38;5;124m'\u001b[39m] \u001b[38;5;241m=\u001b[39m df[\u001b[38;5;124m'\u001b[39m\u001b[38;5;124mHong Kong Exchange\u001b[39m\u001b[38;5;124m'\u001b[39m]\u001b[38;5;241m.\u001b[39mpct_change()\n\u001b[0;32m      6\u001b[0m df[\u001b[38;5;124m'\u001b[39m\u001b[38;5;124mMass Transit Railway Return\u001b[39m\u001b[38;5;124m'\u001b[39m] \u001b[38;5;241m=\u001b[39m df[\u001b[38;5;124m'\u001b[39m\u001b[38;5;124mMass Transit Railway\u001b[39m\u001b[38;5;124m'\u001b[39m]\u001b[38;5;241m.\u001b[39mpct_change()\n",
      "File \u001b[1;32m~\\anaconda3_2\\Lib\\site-packages\\pandas\\core\\frame.py:3893\u001b[0m, in \u001b[0;36mDataFrame.__getitem__\u001b[1;34m(self, key)\u001b[0m\n\u001b[0;32m   3891\u001b[0m \u001b[38;5;28;01mif\u001b[39;00m \u001b[38;5;28mself\u001b[39m\u001b[38;5;241m.\u001b[39mcolumns\u001b[38;5;241m.\u001b[39mnlevels \u001b[38;5;241m>\u001b[39m \u001b[38;5;241m1\u001b[39m:\n\u001b[0;32m   3892\u001b[0m     \u001b[38;5;28;01mreturn\u001b[39;00m \u001b[38;5;28mself\u001b[39m\u001b[38;5;241m.\u001b[39m_getitem_multilevel(key)\n\u001b[1;32m-> 3893\u001b[0m indexer \u001b[38;5;241m=\u001b[39m \u001b[38;5;28mself\u001b[39m\u001b[38;5;241m.\u001b[39mcolumns\u001b[38;5;241m.\u001b[39mget_loc(key)\n\u001b[0;32m   3894\u001b[0m \u001b[38;5;28;01mif\u001b[39;00m is_integer(indexer):\n\u001b[0;32m   3895\u001b[0m     indexer \u001b[38;5;241m=\u001b[39m [indexer]\n",
      "File \u001b[1;32m~\\anaconda3_2\\Lib\\site-packages\\pandas\\core\\indexes\\base.py:3798\u001b[0m, in \u001b[0;36mIndex.get_loc\u001b[1;34m(self, key)\u001b[0m\n\u001b[0;32m   3793\u001b[0m     \u001b[38;5;28;01mif\u001b[39;00m \u001b[38;5;28misinstance\u001b[39m(casted_key, \u001b[38;5;28mslice\u001b[39m) \u001b[38;5;129;01mor\u001b[39;00m (\n\u001b[0;32m   3794\u001b[0m         \u001b[38;5;28misinstance\u001b[39m(casted_key, abc\u001b[38;5;241m.\u001b[39mIterable)\n\u001b[0;32m   3795\u001b[0m         \u001b[38;5;129;01mand\u001b[39;00m \u001b[38;5;28many\u001b[39m(\u001b[38;5;28misinstance\u001b[39m(x, \u001b[38;5;28mslice\u001b[39m) \u001b[38;5;28;01mfor\u001b[39;00m x \u001b[38;5;129;01min\u001b[39;00m casted_key)\n\u001b[0;32m   3796\u001b[0m     ):\n\u001b[0;32m   3797\u001b[0m         \u001b[38;5;28;01mraise\u001b[39;00m InvalidIndexError(key)\n\u001b[1;32m-> 3798\u001b[0m     \u001b[38;5;28;01mraise\u001b[39;00m \u001b[38;5;167;01mKeyError\u001b[39;00m(key) \u001b[38;5;28;01mfrom\u001b[39;00m \u001b[38;5;21;01merr\u001b[39;00m\n\u001b[0;32m   3799\u001b[0m \u001b[38;5;28;01mexcept\u001b[39;00m \u001b[38;5;167;01mTypeError\u001b[39;00m:\n\u001b[0;32m   3800\u001b[0m     \u001b[38;5;66;03m# If we have a listlike key, _check_indexing_error will raise\u001b[39;00m\n\u001b[0;32m   3801\u001b[0m     \u001b[38;5;66;03m#  InvalidIndexError. Otherwise we fall through and re-raise\u001b[39;00m\n\u001b[0;32m   3802\u001b[0m     \u001b[38;5;66;03m#  the TypeError.\u001b[39;00m\n\u001b[0;32m   3803\u001b[0m     \u001b[38;5;28mself\u001b[39m\u001b[38;5;241m.\u001b[39m_check_indexing_error(key)\n",
      "\u001b[1;31mKeyError\u001b[0m: 'Hang Seng Tech'"
     ]
    }
   ],
   "source": [
    "# Calculate daily returns\n",
    "df['7200 HK Return'] = df['7200 HK'].pct_change()\n",
    "df['3110 HK Return'] = df['3110 HK'].pct_change()\n",
    "df['Hang Seng Tech Return'] = df['Hang Seng Tech'].pct_change()\n",
    "df['Hong Kong Exchange Return'] = df['Hong Kong Exchange'].pct_change()\n",
    "df['Mass Transit Railway Return'] = df['Mass Transit Railway'].pct_change()\n",
    "df['Hang Seng Index Return'] = df['Hang Seng Index'].pct_change()\n",
    "\n",
    "# Define return columns\n",
    "return_columns = [\n",
    "    '7200 HK Return', '3110 HK Return', 'Hang Seng Tech Return',\n",
    "    'Hong Kong Exchange Return', 'Mass Transit Railway Return', 'Hang Seng Index Return'\n",
    "]\n"
   ]
  },
  {
   "cell_type": "code",
   "execution_count": null,
   "id": "7dec8aa1-a6f7-4a81-8d6c-23adee7c6e58",
   "metadata": {},
   "outputs": [],
   "source": [
    "# Calculate beta relative to Hang Seng Index\n",
    "def calculate_betas(df):\n",
    "    betas = {}\n",
    "    market_return = df['Hang Seng Index Return']\n",
    "    \n",
    "    for col in return_columns[:-1]:  # Exclude Hang Seng Index itself\n",
    "        model = sm.OLS(df[col].dropna(), sm.add_constant(market_return.dropna()))\n",
    "        results = model.fit()\n",
    "        betas[col] = results.params.iloc[1]  # Using iloc instead of direct indexing\n",
    "    \n",
    "    return pd.Series(betas)"
   ]
  },
  {
   "cell_type": "code",
   "execution_count": null,
   "id": "773100cb-f653-4848-9d33-073adddaba77",
   "metadata": {},
   "outputs": [],
   "source": [
    "# Calculate and print betas\n",
    "betas = calculate_betas(df)\n",
    "print(\"\\nBetas relative to Hang Seng Index:\")\n",
    "print(betas.round(4))  # Rounded to 4 decimal places for cleaner output"
   ]
  },
  {
   "cell_type": "code",
   "execution_count": null,
   "id": "8b531a28-0006-46b3-a2de-03f0d41363ae",
   "metadata": {},
   "outputs": [],
   "source": [
    "#Next, do separate calculation for 3419 HK which is the Hang Seng Covered Call ETF due to \n",
    "#late issuance date\n",
    "\n",
    "file_path_2 = r'D:\\Derivatives Trading\\Hang Seng Covered Call ETF Beta.xlsx'\n",
    "df_2 = pd.read_excel(file_path_2, index_col='Date', parse_dates=True)"
   ]
  },
  {
   "cell_type": "code",
   "execution_count": null,
   "id": "ce01e103-80b3-481d-a921-b27bffead6e5",
   "metadata": {},
   "outputs": [],
   "source": [
    "# Calculate daily returns\n",
    "df_2['Hang Seng Covered Call Return'] = df_2['Hang Seng Covered Call'].pct_change(fill_method=None)\n",
    "df_2['Hang Seng Index Return'] = df_2['Hang Seng Index'].pct_change(fill_method=None)\n"
   ]
  },
  {
   "cell_type": "code",
   "execution_count": null,
   "id": "4c86da4a-5705-4e67-b496-3065d2484d9c",
   "metadata": {},
   "outputs": [],
   "source": [
    "# Create aligned return series\n",
    "returns_data = pd.DataFrame({\n",
    "    'ETF': df_2['Hang Seng Covered Call Return'],\n",
    "    'Index': df_2['Hang Seng Index Return']\n",
    "}).dropna()\n",
    "\n",
    "# Calculate beta\n",
    "model = sm.OLS(returns_data['ETF'], sm.add_constant(returns_data['Index']))\n",
    "results = model.fit()\n",
    "beta = results.params.iloc[1]\n"
   ]
  },
  {
   "cell_type": "code",
   "execution_count": null,
   "id": "fe0e0c8d-426c-420c-99c7-3ba75786f311",
   "metadata": {},
   "outputs": [],
   "source": [
    "#Print beta\n",
    "print(\"\\nBeta for Hang Seng Covered Call ETF:\")\n",
    "print(round(beta, 4))"
   ]
  },
  {
   "cell_type": "code",
   "execution_count": null,
   "id": "303b8938-cb74-4a89-8928-3d1a11494d1f",
   "metadata": {},
   "outputs": [],
   "source": []
  }
 ],
 "metadata": {
  "kernelspec": {
   "display_name": "Python 3 (ipykernel)",
   "language": "python",
   "name": "python3"
  },
  "language_info": {
   "codemirror_mode": {
    "name": "ipython",
    "version": 3
   },
   "file_extension": ".py",
   "mimetype": "text/x-python",
   "name": "python",
   "nbconvert_exporter": "python",
   "pygments_lexer": "ipython3",
   "version": "3.11.7"
  }
 },
 "nbformat": 4,
 "nbformat_minor": 5
}
