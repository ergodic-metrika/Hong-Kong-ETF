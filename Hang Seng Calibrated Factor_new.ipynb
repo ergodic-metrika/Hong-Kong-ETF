{
 "cells": [
  {
   "cell_type": "code",
   "execution_count": 15,
   "id": "e7db90df-653c-4020-9a04-9796dde86668",
   "metadata": {},
   "outputs": [],
   "source": [
    "#Load Package\n",
    "import numpy as np\n",
    "import pandas as pd\n",
    "import statsmodels.api as sm\n",
    "\n",
    "# Read excel file\n",
    "file_path = r'D:\\Derivatives Trading\\Hang Seng ETF Data.xlsx'\n",
    "df = pd.read_excel(file_path, index_col='Date', parse_dates=True)\n"
   ]
  },
  {
   "cell_type": "code",
   "execution_count": 16,
   "id": "bc981a04-94c1-49c5-9868-542dd96e126e",
   "metadata": {},
   "outputs": [],
   "source": [
    "# Read excel file\n",
    "file_path = r'D:\\Derivatives Trading\\Hang Seng ETF Data.xlsx'\n",
    "df = pd.read_excel(file_path, index_col='Date', parse_dates=True)"
   ]
  },
  {
   "cell_type": "code",
   "execution_count": 17,
   "id": "b87d8318-f7f0-48ff-a0ae-2874fa8a9546",
   "metadata": {},
   "outputs": [],
   "source": [
    "# Calculate daily returns\n",
    "df['7200 HK Return'] = df['7200 HK'].pct_change()\n",
    "df['3110 HK Return'] = df['3110 HK'].pct_change()\n",
    "df['GX Hang Seng Tech Return'] = df['GX Hang Seng Tech'].pct_change()\n",
    "df['Hong Kong Exchange Return'] = df['Hong Kong Exchange'].pct_change()\n",
    "df['Mass Transit Railway Return'] = df['Mass Transit Railway'].pct_change()\n",
    "df['Galaxy Entertainment'] = df['Galaxy Entertainment'].pct_change()\n",
    "df['CSOP Hang Seng Tech Return'] = df['CSOP Hang Seng Tech'].pct_change()\n",
    "df['Hang Seng Index Return'] = df['Hang Seng Index'].pct_change()"
   ]
  },
  {
   "cell_type": "code",
   "execution_count": 24,
   "id": "7dec8aa1-a6f7-4a81-8d6c-23adee7c6e58",
   "metadata": {},
   "outputs": [],
   "source": [
    "# Define return columns\n",
    "return_columns = [\n",
    "    '7200 HK Return', '3110 HK Return', 'GX Hang Seng Tech Return',\n",
    "    'Hong Kong Exchange Return', 'Mass Transit Railway Return', 'Galaxy Entertainment','CSOP Hang Seng Tech Return','Hang Seng Index Return'\n",
    "]\n",
    "\n",
    "# Calculate beta relative to Hang Seng Index\n",
    "def calculate_betas(df):\n",
    "    betas = {}\n",
    "    market_return = df['Hang Seng Index Return']\n",
    "    \n",
    "    for col in return_columns[:-1]:  # Exclude Hang Seng Index itself\n",
    "        model = sm.OLS(df[col].dropna(), sm.add_constant(market_return.dropna()))\n",
    "        results = model.fit()\n",
    "        betas[col] = results.params.iloc[1]  # Using iloc instead of direct indexing\n",
    "    \n",
    "    return pd.Series(betas)\n"
   ]
  },
  {
   "cell_type": "code",
   "execution_count": 25,
   "id": "773100cb-f653-4848-9d33-073adddaba77",
   "metadata": {},
   "outputs": [
    {
     "name": "stdout",
     "output_type": "stream",
     "text": [
      "\n",
      "Betas relative to Hang Seng Index:\n",
      "7200 HK Return                 2.0000\n",
      "3110 HK Return                 0.5789\n",
      "GX Hang Seng Tech Return       1.5123\n",
      "Hong Kong Exchange Return      1.0766\n",
      "Mass Transit Railway Return    0.3671\n",
      "Galaxy Entertainment           0.9756\n",
      "CSOP Hang Seng Tech Return     1.5085\n",
      "dtype: float64\n"
     ]
    }
   ],
   "source": [
    "# Calculate and print betas\n",
    "betas = calculate_betas(df)\n",
    "print(\"\\nBetas relative to Hang Seng Index:\")\n",
    "print(betas.round(4))  # Rounded to 4 decimal places for cleaner output"
   ]
  },
  {
   "cell_type": "code",
   "execution_count": 26,
   "id": "8b531a28-0006-46b3-a2de-03f0d41363ae",
   "metadata": {},
   "outputs": [
    {
     "name": "stdout",
     "output_type": "stream",
     "text": [
      "\n",
      "Beta for Hang Seng Covered Call ETF:\n",
      "0.0263\n"
     ]
    }
   ],
   "source": [
    "# Read Covered Call ETF data separately\n",
    "file_path_2 = r'D:\\Derivatives Trading\\Hang Seng Covered Call ETF Beta.xlsx'\n",
    "df_2 = pd.read_excel(file_path_2, index_col='Date', parse_dates=True)\n",
    "\n",
    "# Calculate daily returns\n",
    "df_2['Hang Seng Covered Call Return'] = df_2['Hang Seng Covered Call'].pct_change(fill_method=None)\n",
    "df_2['Hang Seng Index Return'] = df_2['Hang Seng Index'].pct_change(fill_method=None)\n",
    "\n",
    "# Create aligned return series\n",
    "returns_data = pd.DataFrame({\n",
    "    'ETF': df_2['Hang Seng Covered Call Return'],\n",
    "    'Index': df_2['Hang Seng Index Return']\n",
    "}).dropna()\n",
    "\n",
    "# Calculate beta\n",
    "model = sm.OLS(returns_data['ETF'], sm.add_constant(returns_data['Index']))\n",
    "results = model.fit()\n",
    "beta = results.params.iloc[1]\n",
    "\n",
    "print(\"\\nBeta for Hang Seng Covered Call ETF:\")\n",
    "print(round(beta, 4))"
   ]
  },
  {
   "cell_type": "code",
   "execution_count": 27,
   "id": "ce01e103-80b3-481d-a921-b27bffead6e5",
   "metadata": {},
   "outputs": [],
   "source": [
    "# Calculate daily returns\n",
    "df_2['Hang Seng Covered Call Return'] = df_2['Hang Seng Covered Call'].pct_change(fill_method=None)\n",
    "df_2['Hang Seng Index Return'] = df_2['Hang Seng Index'].pct_change(fill_method=None)\n"
   ]
  },
  {
   "cell_type": "code",
   "execution_count": 28,
   "id": "4c86da4a-5705-4e67-b496-3065d2484d9c",
   "metadata": {},
   "outputs": [],
   "source": [
    "#########################################################\n",
    "######################################For 2835 HK and Tracker Fund of Hong Kong 2800 HK only####\n",
    "file_path_3 = r'D:\\Derivatives Trading\\Hang Seng ETF Data_2835.xlsx'\n",
    "df_3 = pd.read_excel(file_path_3, index_col='Date', parse_dates=True)\n",
    "\n",
    "# Calculate daily returns\n",
    "df_3['2835 HK Return'] = df_3['2835 HK'].pct_change(fill_method=None)\n",
    "df_3['Tracker Fund of Hong Kong Return'] = df_3['Tracker Fund of Hong Kong'].pct_change(fill_method=None)\n",
    "\n",
    "# Create aligned return series\n",
    "returns_data = pd.DataFrame({\n",
    "    'ETF': df_3['2835 HK Return'],\n",
    "    'Index': df_3['Tracker Fund of Hong Kong Return']\n",
    "}).dropna()\n",
    "\n",
    "\n",
    "\n"
   ]
  },
  {
   "cell_type": "code",
   "execution_count": 23,
   "id": "fe0e0c8d-426c-420c-99c7-3ba75786f311",
   "metadata": {},
   "outputs": [
    {
     "name": "stdout",
     "output_type": "stream",
     "text": [
      "\n",
      "Beta for 2835 HK ETF:\n",
      "1.092\n"
     ]
    }
   ],
   "source": [
    "# Calculate beta\n",
    "model = sm.OLS(returns_data['ETF'], sm.add_constant(returns_data['Index']))\n",
    "results = model.fit()\n",
    "beta = results.params.iloc[1]\n",
    "\n",
    "print(\"\\nBeta for 2835 HK ETF:\")\n",
    "print(round(beta, 4))"
   ]
  },
  {
   "cell_type": "code",
   "execution_count": null,
   "id": "303b8938-cb74-4a89-8928-3d1a11494d1f",
   "metadata": {},
   "outputs": [],
   "source": []
  }
 ],
 "metadata": {
  "kernelspec": {
   "display_name": "Python 3 (ipykernel)",
   "language": "python",
   "name": "python3"
  },
  "language_info": {
   "codemirror_mode": {
    "name": "ipython",
    "version": 3
   },
   "file_extension": ".py",
   "mimetype": "text/x-python",
   "name": "python",
   "nbconvert_exporter": "python",
   "pygments_lexer": "ipython3",
   "version": "3.11.7"
  }
 },
 "nbformat": 4,
 "nbformat_minor": 5
}
